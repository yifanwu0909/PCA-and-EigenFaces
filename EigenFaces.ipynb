{
 "cells": [
  {
   "cell_type": "markdown",
   "metadata": {},
   "source": [
    "# Eigen Face"
   ]
  },
  {
   "cell_type": "code",
   "execution_count": 1,
   "metadata": {},
   "outputs": [
    {
     "data": {
      "text/plain": [
       "(10304, 400)"
      ]
     },
     "execution_count": 1,
     "metadata": {},
     "output_type": "execute_result"
    }
   ],
   "source": [
    "import os\n",
    "import numpy as np\n",
    "from PIL import Image\n",
    "#Read image path into list\n",
    "all_path = []\n",
    "for root,d_names,f_names in os.walk('.'):\n",
    "    for f in f_names:\n",
    "        full_path = os.path.join(root, f)\n",
    "        if full_path.endswith('.pgm'): all_path += [full_path]\n",
    "\n",
    "#Generate column-wize normalized image matrix, pass in list of image path\n",
    "def ReadAndNorm(all_path):\n",
    "    \n",
    "    Face_Matrix = np.empty((0,10304), int)    \n",
    "    for iamge_path in all_path:        \n",
    "        img = Image.open(iamge_path).convert('L')\n",
    "        imagearray = np.array(img)\n",
    "        original_shape = imagearray.shape\n",
    "        flat = imagearray.ravel()\n",
    "        facevector = np.matrix(flat)\n",
    "        #Row_wize face matrix\n",
    "        Face_Matrix = np.r_[Face_Matrix, facevector]\n",
    "        \n",
    "    #Take transpose so each column is an image\n",
    "    Face_Matrix = Face_Matrix.T\n",
    "    #get mean face\n",
    "    mean_face = Face_Matrix.sum(axis=1)/Face_Matrix.shape[1]\n",
    "    #Normalize face\n",
    "    Norm_Face_Matrix = Face_Matrix - mean_face      \n",
    "    \n",
    "    return Face_Matrix, Norm_Face_Matrix, mean_face, original_shape\n",
    "\n",
    "___, Norm_Face_Matrix, mean_face, original_shape = ReadAndNorm(all_path)\n",
    "\n",
    "Norm_Face_Matrix.shape #10304 pixels per image x 400 images"
   ]
  },
  {
   "cell_type": "code",
   "execution_count": 63,
   "metadata": {},
   "outputs": [
    {
     "data": {
      "text/plain": [
       "(112, 92)"
      ]
     },
     "execution_count": 63,
     "metadata": {},
     "output_type": "execute_result"
    }
   ],
   "source": [
    "original_shape"
   ]
  },
  {
   "cell_type": "code",
   "execution_count": 45,
   "metadata": {},
   "outputs": [
    {
     "data": {
      "image/png": "[encoded data removed]",
      "text/plain": [
       "<PIL.Image.Image image mode=L size=92x112 at 0x1C612057A58>"
      ]
     },
     "execution_count": 45,
     "metadata": {},
     "output_type": "execute_result"
    }
   ],
   "source": [
    "#see one of the normalized face\n",
    "mean_face_reshape = np.asarray(mean_face).reshape(original_shape).astype('uint8') * 255\n",
    "mean_face_reshape_iamge = Image.fromarray(mean_face_reshape, 'L')\n",
    "mean_face_reshape_iamge.save(\"MEAN_Face.jpg\")\n",
    "mean_face_reshape_iamge"
   ]
  },
  {
   "cell_type": "code",
   "execution_count": 44,
   "metadata": {},
   "outputs": [
    {
     "name": "stdout",
     "output_type": "stream",
     "text": [
      "[[-46.825  -51.825  -25.825  ...  26.175   25.175   24.175 ]\n",
      " [-41.7775 -51.7775 -25.7775 ...  23.2225  28.2225  26.2225]\n",
      " [-33.1375 -53.1375 -24.1375 ...  29.8625  25.8625  26.8625]\n",
      " ...\n",
      " [-47.88   -39.88   -44.88   ...  16.12    11.12    15.12  ]\n",
      " [-49.87   -35.87   -41.87   ...  12.13    10.13    11.13  ]\n",
      " [-46.25   -42.25   -41.25   ...  16.75    16.75    14.75  ]]\n"
     ]
    }
   ],
   "source": [
    "print(Norm_Face_Matrix)"
   ]
  },
  {
   "cell_type": "code",
   "execution_count": 3,
   "metadata": {},
   "outputs": [
    {
     "name": "stdout",
     "output_type": "stream",
     "text": [
      "The covar matrix is\n",
      " [[20002331.49939375  8500528.92439375 11248780.48189375 ...\n",
      "  -4536546.18560625 -2796522.69810625 -4145164.07310625]\n",
      " [ 8500528.92439375 19805875.34939375 10876732.90689375 ...\n",
      "  -4860916.76060625 -2380296.27310625 -2443799.64810625]\n",
      " [11248780.48189375 10876732.90689375 26970225.46439374 ...\n",
      "  -2818203.20310625 -2964414.71560625 -3337893.09060625]\n",
      " ...\n",
      " [-4536546.18560625 -4860916.76060625 -2818203.20310625 ...\n",
      "  12405035.12939375  5937340.61689375  4866623.24189375]\n",
      " [-2796522.69810625 -2380296.27310625 -2964414.71560625 ...\n",
      "   5937340.61689375 10424938.10439375  6702262.72939375]\n",
      " [-4145164.07310625 -2443799.64810625 -3337893.09060625 ...\n",
      "   4866623.24189375  6702262.72939375 11941678.35439375]]\n"
     ]
    },
    {
     "data": {
      "text/plain": [
       "(400, 400)"
      ]
     },
     "execution_count": 3,
     "metadata": {},
     "output_type": "execute_result"
    }
   ],
   "source": [
    "#Get Coveriance matrix\n",
    "Norm_Face_Matrix_t = np.transpose(Norm_Face_Matrix)\n",
    "CovMatrix = np.matmul(Norm_Face_Matrix_t, Norm_Face_Matrix)\n",
    "print(\"The covar matrix is\\n\", CovMatrix)\n",
    "CovMatrix.shape"
   ]
  },
  {
   "cell_type": "code",
   "execution_count": 61,
   "metadata": {},
   "outputs": [
    {
     "name": "stdout",
     "output_type": "stream",
     "text": [
      "The eigenvalues are\n",
      " [1.12570301e+09 8.25390350e+08 4.36716260e+08 3.57230059e+08\n",
      " 3.27166296e+08] ...\n",
      "The eigenvectors are\n",
      " [[ 8.00730079e-02  1.30700548e-02  4.74960735e-02 ... -4.49330313e-02\n",
      "   4.27946634e-03  1.04316119e-05]\n",
      " [ 7.79699105e-02  3.29159061e-02  4.69369104e-02 ...  1.84142101e-02\n",
      "   1.15554979e-02 -2.84580002e-02]\n",
      " [ 8.87250827e-02  2.67873072e-02 -2.33880153e-02 ... -1.09119471e-02\n",
      "  -4.51866990e-02 -3.66230540e-02]\n",
      " [ 3.38281665e-02  2.93231196e-02 -7.52733798e-02 ... -3.02904689e-02\n",
      "   2.12547900e-02  2.48893755e-02]\n",
      " [ 9.64207756e-02  4.05354597e-02 -7.86651313e-03 ...  8.07939409e-02\n",
      "  -3.11432497e-02 -1.47876474e-02]] ...\n"
     ]
    }
   ],
   "source": [
    "#Get eigen vector and eigen value\n",
    "evals,evects = np.linalg.eig(CovMatrix)\n",
    "print(\"The eigenvalues are\\n\", evals[:5], \"...\")\n",
    "print(\"The eigenvectors are\\n\", evects[:5], \"...\")\n",
    "np.savetxt('eigenvalues.txt', evals)\n",
    "np.savetxt('eigenvectors.txt', evects, delimiter=',')"
   ]
  },
  {
   "cell_type": "code",
   "execution_count": 5,
   "metadata": {},
   "outputs": [
    {
     "data": {
      "text/plain": [
       "array([ True,  True,  True,  True,  True,  True,  True,  True,  True,\n",
       "        True,  True,  True,  True,  True,  True,  True,  True,  True,\n",
       "        True,  True,  True,  True,  True,  True,  True,  True,  True,\n",
       "        True,  True,  True])"
      ]
     },
     "execution_count": 5,
     "metadata": {},
     "output_type": "execute_result"
    }
   ],
   "source": [
    "#Are the result of first 30 eigen values sorted?\n",
    "sorted(evals, reverse = True )[:30] == evals[:30] #Looks like it!"
   ]
  },
  {
   "cell_type": "code",
   "execution_count": 66,
   "metadata": {},
   "outputs": [
    {
     "data": {
      "image/png": "[encoded data removed]",
      "text/plain": [
       "<matplotlib.figure.Figure at 0x1c6153847f0>"
      ]
     },
     "metadata": {
      "needs_background": "light"
     },
     "output_type": "display_data"
    }
   ],
   "source": [
    "import matplotlib.pyplot as plt\n",
    "plt.plot(evals[:30])\n",
    "plt.show() #looks like they are sorted already!"
   ]
  },
  {
   "cell_type": "code",
   "execution_count": 7,
   "metadata": {},
   "outputs": [
    {
     "data": {
      "text/plain": [
       "1125703013.9396787"
      ]
     },
     "execution_count": 7,
     "metadata": {},
     "output_type": "execute_result"
    }
   ],
   "source": [
    "#What's the biggest eigen value?\n",
    "evals[0]"
   ]
  },
  {
   "cell_type": "code",
   "execution_count": 8,
   "metadata": {},
   "outputs": [
    {
     "data": {
      "text/plain": [
       "matrix([[ 8.00730079e-02,  1.30700548e-02,  4.74960735e-02,\n",
       "          3.02239954e-03,  5.78064471e-02,  7.36501357e-02,\n",
       "         -3.65115902e-02,  2.14374842e-02,  9.55954000e-02,\n",
       "          8.25579079e-02,  5.63457663e-02, -5.84802987e-02,\n",
       "         -5.36511804e-02, -1.21317728e-02,  5.81314573e-02,\n",
       "          7.60000005e-02,  5.85553010e-02,  5.87073882e-02,\n",
       "          1.66252098e-02, -5.48307766e-02, -2.08504756e-02,\n",
       "         -2.96451686e-02,  2.05533543e-02, -6.50964648e-02,\n",
       "          1.47856502e-02,  2.29158748e-02,  9.66840694e-02,\n",
       "         -7.24418972e-02,  7.31425728e-02, -3.63890811e-03,\n",
       "          1.49622103e-02,  3.81514589e-02, -1.23377067e-02,\n",
       "         -6.84339018e-02,  2.81880294e-02, -6.38934251e-02,\n",
       "         -7.45650994e-02,  2.06766640e-02, -3.08643290e-02,\n",
       "         -3.80920396e-02,  2.71413188e-02, -4.65917141e-02,\n",
       "          2.02512821e-02, -3.55822022e-02,  6.33578702e-02,\n",
       "          1.32652709e-01, -6.41433924e-02,  2.27485768e-02,\n",
       "          6.13818742e-02, -5.29491569e-02, -5.02145921e-02,\n",
       "          1.02653920e-01,  3.42170216e-02, -9.67946634e-03,\n",
       "          4.82088718e-02, -1.75345694e-02,  2.63156977e-02,\n",
       "         -5.63010198e-02, -8.77031536e-03, -7.93274319e-02,\n",
       "         -5.71360984e-03,  9.47354444e-03, -5.80316114e-03,\n",
       "          7.82510145e-02, -1.28607977e-02,  4.43967884e-02,\n",
       "         -7.73559739e-02,  7.77747194e-02,  1.19425877e-01,\n",
       "          3.46526080e-03, -3.76244427e-02,  1.25822240e-02,\n",
       "          6.98359532e-02,  1.93218249e-02, -4.27859852e-02,\n",
       "          9.16299967e-02, -3.71197556e-02,  1.58977398e-02,\n",
       "         -3.66476834e-02,  2.92736658e-02,  1.09372528e-01,\n",
       "         -6.13811522e-02,  3.85649749e-02, -3.47481903e-02,\n",
       "          3.72143259e-02, -6.15041074e-02, -4.28711161e-02,\n",
       "          9.05669857e-02,  1.46866879e-01, -3.10606829e-03,\n",
       "          8.36736477e-03, -4.54708672e-02, -9.91428466e-03,\n",
       "          6.90086494e-02, -5.04423675e-02, -6.53091178e-02,\n",
       "         -4.07426785e-02, -9.65996024e-02, -1.93733467e-02,\n",
       "          9.92564959e-04, -5.22141595e-03, -4.44078382e-02,\n",
       "          3.96249553e-02, -1.35153238e-01, -5.59653785e-02,\n",
       "          3.46923854e-02,  1.14506232e-03, -5.68999844e-03,\n",
       "          1.07843766e-01,  1.69496607e-02,  8.79349716e-03,\n",
       "          7.46496558e-02, -5.35963188e-03, -5.89518018e-02,\n",
       "         -1.05263019e-02, -1.09416042e-02,  4.78288130e-02,\n",
       "          1.98298484e-02,  8.41113929e-02, -6.68684306e-03,\n",
       "         -4.71051765e-02,  2.74780459e-02,  1.51609255e-02,\n",
       "          1.03585503e-02,  5.95056481e-02,  2.40774562e-02,\n",
       "          3.19384892e-02, -3.83024373e-02, -4.07466474e-02,\n",
       "          2.05588982e-02,  7.10341520e-02, -9.95513233e-02,\n",
       "          3.33224460e-02,  6.07973296e-03, -1.01724063e-01,\n",
       "         -1.64308249e-02, -7.71422032e-03, -3.14917146e-02,\n",
       "          1.21643369e-02,  5.14487996e-02,  3.07415227e-02,\n",
       "         -3.37136619e-02,  5.07343908e-03, -1.03694098e-02,\n",
       "         -8.77056359e-02, -1.19938968e-01,  8.79594165e-04,\n",
       "          9.09297396e-02, -3.90277038e-02, -6.71342232e-02,\n",
       "          8.59886999e-03,  2.74208286e-02,  7.47378315e-04,\n",
       "          1.06255654e-02,  5.48048771e-02,  1.06868291e-01,\n",
       "          8.24245892e-02,  6.19333614e-02,  7.09251762e-02,\n",
       "          2.64602618e-02, -1.19014667e-02, -3.01039297e-02,\n",
       "         -2.04206748e-02, -3.14615562e-02,  4.07221152e-02,\n",
       "          4.41946008e-02, -3.74285406e-02, -1.22336598e-01,\n",
       "         -4.36975455e-02,  7.86785764e-02,  8.67597580e-02,\n",
       "          4.10536334e-02,  1.16715312e-02, -3.16092377e-02,\n",
       "          4.45615967e-02, -8.98255558e-02, -1.35196445e-01,\n",
       "          6.93378405e-02,  3.07165018e-02,  6.99951740e-03,\n",
       "          3.90852393e-02, -3.49661630e-02,  7.10700268e-02,\n",
       "          1.37516052e-02,  2.66473868e-03,  1.44023175e-02,\n",
       "          3.61740591e-02, -1.55827985e-02, -3.50764852e-02,\n",
       "         -1.45047860e-01,  5.21232829e-02,  1.13537478e-02,\n",
       "         -6.02809794e-02, -9.21463558e-02, -1.36089692e-02,\n",
       "          3.40378252e-02,  5.13074182e-03,  3.62048874e-03,\n",
       "          7.19886220e-03, -2.32601592e-02,  3.58391359e-03,\n",
       "         -6.62908494e-03,  5.55701426e-03, -6.41579212e-03,\n",
       "          7.36871336e-02, -2.53321289e-03, -3.92931354e-03,\n",
       "         -9.65185159e-02, -1.35086913e-02,  5.29438485e-02,\n",
       "          7.71350919e-03,  2.16939144e-02, -4.58681786e-02,\n",
       "          1.45027041e-02, -3.24029184e-02,  3.15939928e-02,\n",
       "         -3.30127202e-02,  2.75475241e-02, -4.82394931e-02,\n",
       "         -3.68000407e-02, -2.46641573e-02,  6.14938041e-02,\n",
       "         -1.92862035e-02, -3.30948864e-02,  9.24212447e-02,\n",
       "         -6.94425022e-02, -8.01237417e-02,  1.19227359e-03,\n",
       "          9.58549209e-03, -9.06438546e-02,  6.68581446e-02,\n",
       "          6.28211942e-02,  1.25074018e-01,  2.62042031e-02,\n",
       "         -2.49081827e-02, -7.31425539e-02,  4.45109249e-02,\n",
       "         -3.01719542e-02,  7.46857844e-04, -7.31676761e-03,\n",
       "         -2.68657558e-02,  8.63862033e-02,  6.13282014e-03,\n",
       "          3.06742538e-02, -8.73702416e-02, -3.94403055e-02,\n",
       "         -1.19875718e-02, -4.73096770e-02, -5.09810473e-02,\n",
       "          7.14928136e-02, -2.07769623e-03, -4.67059131e-03,\n",
       "          1.79878843e-02,  1.44296876e-01,  6.75087896e-02,\n",
       "         -2.21290250e-02,  7.42017124e-02, -5.19075122e-02,\n",
       "          7.36909825e-02,  4.79113741e-03, -1.86867654e-02,\n",
       "         -4.44999203e-02, -4.85777441e-02, -1.16443212e-02,\n",
       "          1.21702754e-02, -4.38607568e-02, -2.49217157e-02,\n",
       "          4.57111600e-02,  2.99480534e-02,  2.58802630e-02,\n",
       "          8.99338061e-02,  2.21624600e-02,  3.56396471e-03,\n",
       "         -1.21406295e-02, -1.50884689e-02, -3.83246015e-02,\n",
       "          1.49932194e-02,  2.71611242e-02, -2.09477300e-02,\n",
       "         -8.08926615e-03, -7.83935055e-03,  6.94681360e-03,\n",
       "          4.15340038e-02, -6.44595215e-03,  2.60558164e-02,\n",
       "         -5.04328520e-02, -1.45820306e-02,  6.68930219e-03,\n",
       "         -2.21984934e-02,  8.79036102e-03,  6.88089840e-03,\n",
       "          3.92311934e-02,  1.76105119e-03,  6.64878986e-02,\n",
       "         -7.33303895e-02,  5.01744355e-02, -1.51245882e-02,\n",
       "         -3.74520981e-02,  3.58948140e-02, -5.11809547e-02,\n",
       "          4.65476898e-02, -5.73914568e-02, -6.16375164e-03,\n",
       "         -1.73964003e-02, -8.03729032e-02,  3.43067858e-03,\n",
       "         -4.50194552e-02,  9.48574136e-03, -7.12341061e-02,\n",
       "         -5.06419933e-02, -6.13670960e-02,  6.67777651e-02,\n",
       "         -4.19118096e-02,  7.69739388e-02,  6.66793066e-02,\n",
       "          2.22145446e-02,  2.40700445e-03, -6.91892975e-02,\n",
       "          1.58724224e-02,  1.08172144e-02,  3.55570112e-02,\n",
       "         -2.28217563e-02,  2.86118938e-02,  3.40623038e-02,\n",
       "          9.40572528e-03,  3.76336449e-02, -3.30375110e-02,\n",
       "          7.12035410e-02, -1.84767380e-02,  1.10614408e-02,\n",
       "          1.36760302e-02,  1.08430425e-02,  3.69127226e-02,\n",
       "          6.39899281e-02,  4.67352786e-02,  4.14382418e-03,\n",
       "          2.98322692e-02,  1.46870925e-02,  6.66266485e-03,\n",
       "          4.35349215e-03,  6.95269200e-02,  9.00798308e-02,\n",
       "          2.11355365e-02,  5.10274181e-02,  6.99251821e-02,\n",
       "          2.26065134e-02,  3.43042462e-02,  2.46467976e-02,\n",
       "          3.10075199e-02, -3.86625564e-02,  4.26096709e-02,\n",
       "          6.35591478e-02, -6.00537676e-02,  4.92546670e-02,\n",
       "          2.02455111e-03, -4.42220907e-02,  2.16396409e-02,\n",
       "          3.33063205e-02, -4.79681782e-02,  6.70508855e-02,\n",
       "         -2.28382890e-02,  3.57402457e-02,  3.39629280e-02,\n",
       "          6.21549225e-02, -4.16028510e-02,  5.06503180e-02,\n",
       "         -4.49118208e-02,  5.07446158e-02,  3.51112915e-02,\n",
       "          1.29822880e-02, -1.31781679e-02, -3.84269439e-03,\n",
       "          4.43549421e-03, -3.05167403e-02, -1.38618588e-02,\n",
       "         -4.43336816e-02, -6.71767889e-02,  6.70158032e-02,\n",
       "         -8.00358099e-02,  1.16261664e-02,  3.71346724e-02,\n",
       "          3.50141712e-02,  7.36570773e-02,  2.14037043e-02,\n",
       "         -3.88587400e-03, -2.56271810e-02,  1.01049944e-02,\n",
       "         -6.20733431e-02,  4.64287686e-02,  5.26076534e-02,\n",
       "         -5.76331684e-02, -3.75881768e-03,  1.20863830e-02,\n",
       "          6.66861706e-02, -3.08806396e-02, -2.96608971e-03,\n",
       "         -7.97619180e-03, -4.49330313e-02,  4.27946634e-03,\n",
       "          1.04316119e-05]])"
      ]
     },
     "execution_count": 8,
     "metadata": {},
     "output_type": "execute_result"
    }
   ],
   "source": [
    "#What's the corresponding eigen vector?\n",
    "evects[0]"
   ]
  },
  {
   "cell_type": "code",
   "execution_count": 9,
   "metadata": {},
   "outputs": [
    {
     "data": {
      "text/plain": [
       "(400, 1)"
      ]
     },
     "execution_count": 9,
     "metadata": {},
     "output_type": "execute_result"
    }
   ],
   "source": [
    "#Shape check for first eigen vector\n",
    "evects[0].T.shape"
   ]
  },
  {
   "cell_type": "code",
   "execution_count": 10,
   "metadata": {},
   "outputs": [
    {
     "data": {
      "text/plain": [
       "(10304, 400)"
      ]
     },
     "execution_count": 10,
     "metadata": {},
     "output_type": "execute_result"
    }
   ],
   "source": [
    "#Shape check for original normalized matrix\n",
    "Norm_Face_Matrix.shape"
   ]
  },
  {
   "cell_type": "code",
   "execution_count": 33,
   "metadata": {},
   "outputs": [],
   "source": [
    "#HAVE eigenface 0:\n",
    "for i in range(30):  \n",
    "    eig_i = np.matmul(Norm_Face_Matrix, np.transpose(evects[i]))\n",
    "    eig_i_reshape = np.asarray(eig_i).reshape(original_shape).astype('uint8') * 255\n",
    "    eig_i_img = Image.fromarray(eig_i_reshape, 'L')\n",
    "    #eig0_img.show()\n",
    "    eig_i_img.save(\"eig\"+str(i)+\".jpg\")"
   ]
  },
  {
   "cell_type": "code",
   "execution_count": 64,
   "metadata": {},
   "outputs": [
    {
     "name": "stdout",
     "output_type": "stream",
     "text": [
      "(30, 10304)\n"
     ]
    }
   ],
   "source": [
    "#matrix of k eigen eigenvectors(eigenfaces matrix)\n",
    "top30_eig_vecs = evects[:30]\n",
    "eigenface_matrix = np.matmul(top30_eig_vecs, Norm_Face_Matrix.T)\n",
    "print(eigenface_matrix.shape)"
   ]
  },
  {
   "cell_type": "markdown",
   "metadata": {},
   "source": [
    "# Test 1"
   ]
  },
  {
   "cell_type": "code",
   "execution_count": 13,
   "metadata": {},
   "outputs": [
    {
     "data": {
      "text/plain": [
       "(10304, 1)"
      ]
     },
     "execution_count": 13,
     "metadata": {},
     "output_type": "execute_result"
    }
   ],
   "source": [
    "#Read in test vector\n",
    "test_vec, ____, ___, ____ = ReadAndNorm([all_path[0]])\n",
    "test_norm_vec = test_vec - mean_face\n",
    "test_norm_vec.shape  "
   ]
  },
  {
   "cell_type": "code",
   "execution_count": 14,
   "metadata": {},
   "outputs": [
    {
     "data": {
      "text/plain": [
       "(30, 1)"
      ]
     },
     "execution_count": 14,
     "metadata": {},
     "output_type": "execute_result"
    }
   ],
   "source": [
    "eig_proj = np.matmul(eigenface_matrix, test_norm_vec)\n",
    "eig_proj.shape"
   ]
  },
  {
   "cell_type": "code",
   "execution_count": 15,
   "metadata": {},
   "outputs": [
    {
     "data": {
      "text/plain": [
       "(30, 400)"
      ]
     },
     "execution_count": 15,
     "metadata": {},
     "output_type": "execute_result"
    }
   ],
   "source": [
    "all_eig_proj = np.matmul(eigenface_matrix, Norm_Face_Matrix)\n",
    "all_eig_proj.shape"
   ]
  },
  {
   "cell_type": "code",
   "execution_count": 16,
   "metadata": {},
   "outputs": [
    {
     "data": {
      "text/plain": [
       "matrix([[ 5454429.15330495, 13956385.47490918,  2098561.90861647,\n",
       "           386009.33014646, -3180456.15760483,  -711900.20454443,\n",
       "           783151.79436999,  3228599.74042368,   856500.82965745,\n",
       "          4977959.63294311, 10298229.18084121,  4161985.22314524,\n",
       "           248208.40548151,  1862244.48085166, 10709337.38377795,\n",
       "          7388164.50340081,   215208.7571912 , -4096665.54357427,\n",
       "          3919177.699533  , -1331356.15267892,  -416860.54906074,\n",
       "         -6362419.32840368,  5242190.97827729, -2939907.92742525,\n",
       "         -5016913.29680836, -6611030.29473942,  7098165.25216724,\n",
       "          7299124.99293134, -2248178.8747069 , -4846081.2036372 ]])"
      ]
     },
     "execution_count": 16,
     "metadata": {},
     "output_type": "execute_result"
    }
   ],
   "source": [
    "all_eig_proj.T[0]"
   ]
  },
  {
   "cell_type": "code",
   "execution_count": 17,
   "metadata": {},
   "outputs": [
    {
     "data": {
      "text/plain": [
       "matrix([[ 5454429.15330494, 13956385.47490919,  2098561.90861647,\n",
       "           386009.33014646, -3180456.15760483,  -711900.20454443,\n",
       "           783151.79436999,  3228599.74042368,   856500.82965745,\n",
       "          4977959.63294311, 10298229.18084121,  4161985.22314524,\n",
       "           248208.40548151,  1862244.48085166, 10709337.38377795,\n",
       "          7388164.50340081,   215208.7571912 , -4096665.54357427,\n",
       "          3919177.69953299, -1331356.15267892,  -416860.54906074,\n",
       "         -6362419.32840368,  5242190.97827729, -2939907.92742525,\n",
       "         -5016913.29680836, -6611030.29473942,  7098165.25216724,\n",
       "          7299124.99293134, -2248178.8747069 , -4846081.2036372 ]])"
      ]
     },
     "execution_count": 17,
     "metadata": {},
     "output_type": "execute_result"
    }
   ],
   "source": [
    "eig_proj.T #Looks the same!"
   ]
  },
  {
   "cell_type": "code",
   "execution_count": 18,
   "metadata": {},
   "outputs": [
    {
     "data": {
      "text/plain": [
       "[0.0,\n",
       " 13618728.39,\n",
       " 20213906.1,\n",
       " 24621675.39,\n",
       " 21164827.42,\n",
       " 22152256.96,\n",
       " 15562756.49,\n",
       " 11165893.14,\n",
       " 16498005.34,\n",
       " 19529965.61]"
      ]
     },
     "execution_count": 18,
     "metadata": {},
     "output_type": "execute_result"
    }
   ],
   "source": [
    "#Let's compute the euclidean_distances\n",
    "from sklearn.metrics.pairwise import euclidean_distances\n",
    "[round(float(i), 2) for i in euclidean_distances(all_eig_proj.T, eig_proj.T)][:10] #it worked!"
   ]
  },
  {
   "cell_type": "markdown",
   "metadata": {},
   "source": [
    "# TEST 2"
   ]
  },
  {
   "cell_type": "code",
   "execution_count": 19,
   "metadata": {},
   "outputs": [
    {
     "data": {
      "text/plain": [
       "['.\\\\FACESdata\\\\s1\\\\2.pgm',\n",
       " '.\\\\FACESdata\\\\s1\\\\10.pgm',\n",
       " '.\\\\FACESdata\\\\s1\\\\2.pgm',\n",
       " '.\\\\FACESdata\\\\s1\\\\3.pgm',\n",
       " '.\\\\FACESdata\\\\s1\\\\4.pgm',\n",
       " '.\\\\FACESdata\\\\s1\\\\5.pgm',\n",
       " '.\\\\FACESdata\\\\s1\\\\6.pgm',\n",
       " '.\\\\FACESdata\\\\s1\\\\7.pgm',\n",
       " '.\\\\FACESdata\\\\s1\\\\8.pgm',\n",
       " '.\\\\FACESdata\\\\s1\\\\9.pgm']"
      ]
     },
     "execution_count": 19,
     "metadata": {},
     "output_type": "execute_result"
    }
   ],
   "source": [
    "#takind the first image out and replace it with the second image(.\\\\FACESdata\\\\s1\\\\1.pgm -->.\\\\FACESdata\\\\s1\\\\2.pgm)\n",
    "all_path_test = all_path.copy()\n",
    "all_path_test[0] = all_path[2]\n",
    "all_path_test[:10] #See there are two 2.pgm in s1?"
   ]
  },
  {
   "cell_type": "code",
   "execution_count": 20,
   "metadata": {},
   "outputs": [
    {
     "data": {
      "text/plain": [
       "matrix([[-25.8775, -25.8175, -24.16  , ..., -44.8875, -41.89  , -41.2625],\n",
       "        [-51.8775, -51.8175, -53.16  , ..., -39.8875, -35.89  , -42.2625],\n",
       "        [-25.8775, -25.8175, -24.16  , ..., -44.8875, -41.89  , -41.2625],\n",
       "        [ 45.1225,  43.1825,  43.84  , ..., -25.8875, -27.89  , -20.2625],\n",
       "        [-22.8775, -32.8175, -51.16  , ..., -35.8875, -65.89  , -51.2625]])"
      ]
     },
     "execution_count": 20,
     "metadata": {},
     "output_type": "execute_result"
    }
   ],
   "source": [
    "#new eigenface matrix using dataset after replacement for test vector:\n",
    "___, test_norm_face, test_mean_face, original_shape = ReadAndNorm(all_path_test)\n",
    "test_norm_face.T[:5] #We can see that the first image and the 2rd image(3rd element in the list) are the same. "
   ]
  },
  {
   "cell_type": "code",
   "execution_count": 21,
   "metadata": {},
   "outputs": [
    {
     "data": {
      "text/plain": [
       "(400, 400)"
      ]
     },
     "execution_count": 21,
     "metadata": {},
     "output_type": "execute_result"
    }
   ],
   "source": [
    "test_norm_face_t = np.transpose(test_norm_face)\n",
    "CovMatrix_test = np.matmul(test_norm_face_t, test_norm_face)\n",
    "CovMatrix_test.shape"
   ]
  },
  {
   "cell_type": "code",
   "execution_count": 22,
   "metadata": {},
   "outputs": [
    {
     "data": {
      "image/png": "[encoded data removed]",
      "text/plain": [
       "<matplotlib.figure.Figure at 0x1c610994748>"
      ]
     },
     "metadata": {
      "needs_background": "light"
     },
     "output_type": "display_data"
    }
   ],
   "source": [
    "evals_test, evects_test = np.linalg.eig(CovMatrix_test)\n",
    "plt.plot(evals_test[:30])\n",
    "plt.show()#They are still well sorted!"
   ]
  },
  {
   "cell_type": "code",
   "execution_count": 23,
   "metadata": {},
   "outputs": [],
   "source": [
    "#Test matrix of k eigen eigenvectors (Test eigenfaces matrix)\n",
    "top30_eig_vecs_test = evects_test[:30]\n",
    "eigenface_matrix_test = np.matmul(top30_eig_vecs_test, test_norm_face_t)\n",
    "#We got our new TEST eigenface matrix! Now lets see if it recognize out test iamge. (first image)"
   ]
  },
  {
   "cell_type": "code",
   "execution_count": 65,
   "metadata": {},
   "outputs": [
    {
     "data": {
      "text/plain": [
       "matrix([[ -5.75586222,  -3.97524173,  -5.18441766, ...,   0.46696848,\n",
       "          10.52483181,  75.46590805],\n",
       "        [ 34.9957851 ,  40.30182428,  31.67794313, ..., -33.47318585,\n",
       "         -35.55193883, -76.57536378],\n",
       "        [ 37.79535635,  33.39729941,  44.96842661, ...,   6.40136675,\n",
       "          -0.42794594, -75.24166264],\n",
       "        ...,\n",
       "        [  3.38626611,  -4.04710001,  -2.65373841, ..., -12.89115118,\n",
       "         -18.27624281, -18.39318583],\n",
       "        [ -7.60248563,  -8.48290156,  -8.61602311, ..., -29.26906189,\n",
       "         -25.87176964, -16.69417752],\n",
       "        [-14.84241454, -22.89186163, -20.17341647, ...,  20.02706049,\n",
       "          -3.38539478,   8.06464068]])"
      ]
     },
     "execution_count": 65,
     "metadata": {},
     "output_type": "execute_result"
    }
   ],
   "source": [
    "eigenface_matrix_test"
   ]
  },
  {
   "cell_type": "code",
   "execution_count": 24,
   "metadata": {},
   "outputs": [
    {
     "data": {
      "text/plain": [
       "matrix([[-46.8775],\n",
       "        [-41.8175],\n",
       "        [-33.16  ],\n",
       "        ...,\n",
       "        [-47.8875],\n",
       "        [-49.89  ],\n",
       "        [-46.2625]])"
      ]
     },
     "execution_count": 24,
     "metadata": {},
     "output_type": "execute_result"
    }
   ],
   "source": [
    "#Read in the first image that we removed and replaced from the database, normalize it with the new test mean face.\n",
    "test_vec, ____, ___, ____ = ReadAndNorm([all_path[0]])\n",
    "test_norm_vec = test_vec - test_mean_face\n",
    "test_norm_vec"
   ]
  },
  {
   "cell_type": "code",
   "execution_count": 25,
   "metadata": {},
   "outputs": [
    {
     "data": {
      "text/plain": [
       "(30, 1)"
      ]
     },
     "execution_count": 25,
     "metadata": {},
     "output_type": "execute_result"
    }
   ],
   "source": [
    "test_eig_proj = np.matmul(eigenface_matrix_test, test_norm_vec)\n",
    "test_eig_proj.shape"
   ]
  },
  {
   "cell_type": "code",
   "execution_count": 26,
   "metadata": {},
   "outputs": [
    {
     "data": {
      "text/plain": [
       "(30, 400)"
      ]
     },
     "execution_count": 26,
     "metadata": {},
     "output_type": "execute_result"
    }
   ],
   "source": [
    "all_eig_proj = np.matmul(eigenface_matrix_test, test_norm_face)\n",
    "all_eig_proj.shape"
   ]
  },
  {
   "cell_type": "code",
   "execution_count": 27,
   "metadata": {},
   "outputs": [
    {
     "data": {
      "text/plain": [
       "'.\\\\FACESdata\\\\s1\\\\7.pgm'"
      ]
     },
     "execution_count": 27,
     "metadata": {},
     "output_type": "execute_result"
    }
   ],
   "source": [
    "#Compute the euclidean_distances and find out which picture in database is cloest to the test image, hopefully from the 1st\n",
    "test_distance = [round(float(i), 2) for i in euclidean_distances(all_eig_proj.T, test_eig_proj.T)]\n",
    "predict_face_path = all_path_test[test_distance.index(min(test_distance))]\n",
    "predict_face_path"
   ]
  },
  {
   "cell_type": "code",
   "execution_count": 28,
   "metadata": {},
   "outputs": [
    {
     "data": {
      "text/plain": [
       "'.\\\\FACESdata\\\\s1\\\\1.pgm'"
      ]
     },
     "execution_count": 28,
     "metadata": {},
     "output_type": "execute_result"
    }
   ],
   "source": [
    "all_path[0] #The model correctly predicted the test image as the first person!"
   ]
  },
  {
   "cell_type": "code",
   "execution_count": 29,
   "metadata": {},
   "outputs": [
    {
     "data": {
      "text/plain": [
       "<function matplotlib.pyplot.show(*args, **kw)>"
      ]
     },
     "execution_count": 29,
     "metadata": {},
     "output_type": "execute_result"
    },
    {
     "data": {
      "image/png": "[encoded data removed]",
      "text/plain": [
       "<matplotlib.figure.Figure at 0x1c610994470>"
      ]
     },
     "metadata": {
      "needs_background": "light"
     },
     "output_type": "display_data"
    }
   ],
   "source": [
    "plt.plot(test_distance)\n",
    "plt.show"
   ]
  },
  {
   "cell_type": "code",
   "execution_count": 30,
   "metadata": {},
   "outputs": [
    {
     "data": {
      "text/plain": [
       "<Container object of 40 artists>"
      ]
     },
     "execution_count": 30,
     "metadata": {},
     "output_type": "execute_result"
    },
    {
     "data": {
      "image/png": "[encoded data removed]",
      "text/plain": [
       "<matplotlib.figure.Figure at 0x1c612044940>"
      ]
     },
     "metadata": {
      "needs_background": "light"
     },
     "output_type": "display_data"
    }
   ],
   "source": [
    "avg_distance = list(np.mean(np.array(test_distance).reshape(-1, 10), axis=1))\n",
    "plt.bar(range(1, 41), avg_distance)"
   ]
  },
  {
   "cell_type": "code",
   "execution_count": 35,
   "metadata": {},
   "outputs": [
    {
     "data": {
      "image/png": "[encoded data removed]",
      "text/plain": [
       "<PIL.PpmImagePlugin.PpmImageFile image mode=L size=92x112 at 0x1C612081160>"
      ]
     },
     "execution_count": 35,
     "metadata": {},
     "output_type": "execute_result"
    }
   ],
   "source": [
    "test_img = Image.open(all_path[0])\n",
    "test_img.save(\"TEST_Image.jpg\")\n",
    "test_img"
   ]
  },
  {
   "cell_type": "code",
   "execution_count": 36,
   "metadata": {},
   "outputs": [
    {
     "data": {
      "image/png": "[encoded data removed]",
      "text/plain": [
       "<PIL.PpmImagePlugin.PpmImageFile image mode=L size=92x112 at 0x1C612044470>"
      ]
     },
     "execution_count": 36,
     "metadata": {},
     "output_type": "execute_result"
    }
   ],
   "source": [
    "pred_img = Image.open(predict_face_path)\n",
    "pred_img.save(\"PREDICTED_Image.jpg\")\n",
    "pred_img"
   ]
  },
  {
   "cell_type": "code",
   "execution_count": null,
   "metadata": {},
   "outputs": [],
   "source": []
  }
 ],
 "metadata": {
  "kernelspec": {
   "display_name": "Python 3",
   "language": "python",
   "name": "python3"
  },
  "language_info": {
   "codemirror_mode": {
    "name": "ipython",
    "version": 3
   },
   "file_extension": ".py",
   "mimetype": "text/x-python",
   "name": "python",
   "nbconvert_exporter": "python",
   "pygments_lexer": "ipython3",
   "version": "3.5.6"
  }
 },
 "nbformat": 4,
 "nbformat_minor": 2
}
